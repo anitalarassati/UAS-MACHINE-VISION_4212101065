{
 "cells": [
  {
   "cell_type": "code",
   "execution_count": null,
   "id": "0c7e837d-24e1-44f5-87a5-fab7c884b163",
   "metadata": {},
   "outputs": [],
   "source": [
    "import matplotlib.pyplot as plt\n",
    "from skimage.feature import hog\n",
    "from sklearn import datasets\n",
    "from mlxtend.data import loadlocal_mnist\n",
    "from sklearn.neural_network import MLPClassifier\n",
    "from sklearn.svm import SVC"
   ]
  },
  {
   "cell_type": "code",
   "execution_count": null,
   "id": "3d2763e5-0651-4f79-9af6-2a8f01eeb959",
   "metadata": {},
   "outputs": [],
   "source": [
    "images_path = '/Users/teknikelektro/Documents/MACHINE VISION /train-images.idx3-ubyte'\n",
    "labels_path = '/Users/teknikelektro/Documents/MACHINE VISION /train-labels.idx1-ubyte'\n",
    "train_images, train_labels = loadlocal_mnist(images_path=images_path, labels_path=labels_path)"
   ]
  },
  {
   "cell_type": "code",
   "execution_count": null,
   "id": "ad7291c5-6d96-46b2-ab4d-48f7864d516b",
   "metadata": {},
   "outputs": [],
   "source": [
    "images_path = '/Users/teknikelektro/Documents/MACHINE VISION /t10k-images.idx3-ubyte'\n",
    "labels_path = '//Users/teknikelektro/Documents/MACHINE VISION /t10k-labels.idx1-ubyte'\n",
    "test_images, test_labels = loadlocal_mnist(images_path=images_path, labels_path=labels_path)"
   ]
  },
  {
   "cell_type": "code",
   "execution_count": null,
   "id": "d48f96ac-6b76-40e3-a2ee-7d1f3879f8a3",
   "metadata": {},
   "outputs": [],
   "source": [
    "plt.imshow(train_images[90].reshape(28,28), cmap='gray')"
   ]
  },
  {
   "cell_type": "code",
   "execution_count": null,
   "id": "3ffa206a-29de-4a47-b191-0df8ed053ed5",
   "metadata": {},
   "outputs": [],
   "source": [
    "<matplotlib.image.AxesImage at 0x29ea1afd0>"
   ]
  },
  {
   "cell_type": "code",
   "execution_count": null,
   "id": "3476d454-8442-4d0f-ab93-ee8859e6306c",
   "metadata": {},
   "outputs": [],
   "source": [
    "train_labels[90]"
   ]
  },
  {
   "cell_type": "code",
   "execution_count": 1,
   "id": "753bcc85-79aa-4e07-b78d-93e493272c17",
   "metadata": {},
   "outputs": [
    {
     "data": {
      "text/plain": [
       "6"
      ]
     },
     "execution_count": 1,
     "metadata": {},
     "output_type": "execute_result"
    }
   ],
   "source": [
    "6"
   ]
  },
  {
   "cell_type": "code",
   "execution_count": null,
   "id": "bb40f2be-e92d-40dd-aff7-d03484d318ef",
   "metadata": {},
   "outputs": [],
   "source": [
    "feature, hog_img = hog(train_images[0].reshape(28,28), orientations=9, pixels_per_cell=(8, 8), cells_per_block=(2,2), visualize=True, block_norm='L2')\""
   ]
  },
  {
   "cell_type": "code",
   "execution_count": null,
   "id": "0a1092af-f3b7-4a6d-a465-c9472913b74e",
   "metadata": {},
   "outputs": [],
   "source": [
    "n_dims = feature.shape[0]"
   ]
  },
  {
   "cell_type": "code",
   "execution_count": null,
   "id": "5a8fc870-0c87-43ec-83a7-64234d4982d8",
   "metadata": {},
   "outputs": [],
   "source": [
    "n_dims"
   ]
  },
  {
   "cell_type": "code",
   "execution_count": null,
   "id": "26dfa57c-3346-427c-b051-86948f409cf8",
   "metadata": {},
   "outputs": [],
   "source": [
    "144"
   ]
  },
  {
   "cell_type": "code",
   "execution_count": null,
   "id": "60349e5c-485d-4eda-bcd0-9267e88788fc",
   "metadata": {},
   "outputs": [],
   "source": [
    "n_samples = train_images.shape[0]"
   ]
  },
  {
   "cell_type": "code",
   "execution_count": null,
   "id": "ed1ec819-892e-41a9-b41a-79976dff1d08",
   "metadata": {},
   "outputs": [],
   "source": [
    "n_samples"
   ]
  },
  {
   "cell_type": "code",
   "execution_count": null,
   "id": "dbcfa54f-9b8d-4a22-8ccd-5c9b8d955716",
   "metadata": {},
   "outputs": [],
   "source": [
    "60000"
   ]
  },
  {
   "cell_type": "code",
   "execution_count": null,
   "id": "301afc86-7d62-4bcc-b218-2635fface335",
   "metadata": {},
   "outputs": [],
   "source": [
    "X_train, y_train = datasets.make_classification(n_samples=n_samples, n_features=n_dims)"
   ]
  },
  {
   "cell_type": "code",
   "execution_count": null,
   "id": "28b8ed26-5d93-488c-9e25-9abc19312e1d",
   "metadata": {},
   "outputs": [],
   "source": [
    "X_train.shape"
   ]
  },
  {
   "cell_type": "code",
   "execution_count": null,
   "id": "089c9d9a-eca3-4dac-8632-981d16e86bcb",
   "metadata": {},
   "outputs": [],
   "source": [
    "(60000, 144)"
   ]
  },
  {
   "cell_type": "code",
   "execution_count": null,
   "id": "966b5119-8f41-4e7c-8842-376f14fb691d",
   "metadata": {},
   "outputs": [],
   "source": [
    "for i in range(n_samples):\n",
    "    X_train[i], _ = hog(train_images[i].reshape(28,28), orientations=9, pixels_per_cell=(8, 8), cells_per_block=(2,2), visualize=True, block_norm='L2')\n",
    "    y_train[i] = train_labels[i]"
   ]
  },
  {
   "cell_type": "code",
   "execution_count": null,
   "id": "24cdf48d-df93-4013-8463-1007222543a3",
   "metadata": {},
   "outputs": [],
   "source": [
    "svm = SVC()"
   ]
  },
  {
   "cell_type": "code",
   "execution_count": null,
   "id": "f802718b-aa3c-4505-9a0a-e2ec68aa83ba",
   "metadata": {},
   "outputs": [],
   "source": [
    "svm.fit(X_train, y_train)"
   ]
  },
  {
   "cell_type": "code",
   "execution_count": null,
   "id": "0f2e887f-605b-4687-8aea-e7663581ca47",
   "metadata": {},
   "outputs": [],
   "source": [
    "SVC()\n",
    "In a Jupyter environment, please rerun this cell to show the HTML representation or trust the notebook.\n",
    "On GitHub, the HTML representation is unable to render, please try loading this page with nbviewer.org."
   ]
  },
  {
   "cell_type": "code",
   "execution_count": null,
   "id": "cc6598bd-0c85-45dd-adac-8ed4673a212d",
   "metadata": {},
   "outputs": [],
   "source": [
    "n_samples = test_images.shape[0]"
   ]
  },
  {
   "cell_type": "code",
   "execution_count": null,
   "id": "865a6602-ca94-404d-990a-b2f920d9786f",
   "metadata": {},
   "outputs": [],
   "source": [
    "for i in range(n_samples):\n",
    "    X_train[i], _ = hog(train_images[i].reshape(28,28), orientations=9, pixels_per_cell=(8, 8), cells_per_block=(2,2), visualize=True, block_norm='L2')\n",
    "    y_train[i] = train_labels[i]"
   ]
  },
  {
   "cell_type": "code",
   "execution_count": null,
   "id": "3552b79c-d480-4da2-85d3-72de35ea8d99",
   "metadata": {},
   "outputs": [],
   "source": [
    "y_pred = svm.predict(X_test)"
   ]
  },
  {
   "cell_type": "code",
   "execution_count": null,
   "id": "70744377-2e90-46df-8050-ca2bc5e991c1",
   "metadata": {},
   "outputs": [],
   "source": [
    "plt.imshow(test_images[20].reshape(28,28), cmap='gray')"
   ]
  },
  {
   "cell_type": "code",
   "execution_count": null,
   "id": "5b349fef-d302-4a97-a820-103f762e4e3f",
   "metadata": {},
   "outputs": [],
   "source": [
    "<matplotlib.image.AxesImage at 0x13793afd0>"
   ]
  },
  {
   "cell_type": "code",
   "execution_count": null,
   "id": "88184029-d4e2-4414-9260-ed7d8f928b23",
   "metadata": {},
   "outputs": [],
   "source": [
    "prediksi = svm.predict(X_test[20].reshape(1, n_dims))\n",
    "hasil_prediksi = prediksi[0]\n",
    "print(hasil_prediksi)"
   ]
  },
  {
   "cell_type": "code",
   "execution_count": null,
   "id": "53cc1f0b-73de-473d-b852-0395722a4b9a",
   "metadata": {},
   "outputs": [],
   "source": [
    "9"
   ]
  },
  {
   "cell_type": "code",
   "execution_count": null,
   "id": "cc5201c5-11a0-442c-bbc0-90ce8d7c0036",
   "metadata": {},
   "outputs": [],
   "source": [
    "from sklearn.metrics import confusion_matrix"
   ]
  },
  {
   "cell_type": "code",
   "execution_count": null,
   "id": "5683d564-093c-4b34-a117-e97053757408",
   "metadata": {},
   "outputs": [],
   "source": [
    "conf_mat = confusion_matrix(y_test, y_pred)"
   ]
  },
  {
   "cell_type": "code",
   "execution_count": null,
   "id": "7a957eb6-8369-4b46-a488-845cff015cb0",
   "metadata": {},
   "outputs": [],
   "source": [
    "conf_mat"
   ]
  },
  {
   "cell_type": "code",
   "execution_count": null,
   "id": "6b418ea4-cc80-44cd-9892-6ebe7194e191",
   "metadata": {},
   "outputs": [],
   "source": [
    "array([[ 978,    0,    1,    0,    0,    0,    1,    0,    0,    0],\n",
    "       [   0, 1127,    2,    0,    3,    0,    1,    0,    2,    0],\n",
    "       [   3,    0, 1009,    5,    3,    0,    0,    8,    2,    2],\n",
    "       [   2,    0,    7,  977,    0,    5,    0,    6,    7,    6],\n",
    "       [   5,    2,    0,    1,  952,    0,    4,    4,    1,   13],\n",
    "       [   2,    0,    1,    9,    1,  869,    2,    2,    5,    1],\n",
    "       [   4,    2,    1,    0,    3,    5,  942,    0,    1,    0],\n",
    "       [   0,    3,   13,    3,   10,    2,    0,  985,    2,   10],\n",
    "       [   3,    3,    2,    6,    2,    2,    0,    1,  949,    6],\n",
    "       [   2,    0,    0,    5,   11,    2,    0,    5,   13,  971]])"
   ]
  },
  {
   "cell_type": "code",
   "execution_count": null,
   "id": "15dd2dbc-a183-43fd-8226-054f701f9682",
   "metadata": {},
   "outputs": [],
   "source": [
    "from mlxtend.plotting import plot_confusion_matrix"
   ]
  },
  {
   "cell_type": "code",
   "execution_count": null,
   "id": "53773261-5d60-409b-b60c-6493058601f5",
   "metadata": {},
   "outputs": [],
   "source": [
    "class_names = ['0', '1', '2', '3', '4', '5', '6', '7', '8', '9']"
   ]
  },
  {
   "cell_type": "code",
   "execution_count": null,
   "id": "1106707d-9933-4518-9da9-265d0279ea60",
   "metadata": {},
   "outputs": [],
   "source": [
    "fig, ax = plot_confusion_matrix(conf_mat=conf_mat, class_names=class_names)"
   ]
  },
  {
   "cell_type": "code",
   "execution_count": null,
   "id": "2c507a69-ab1d-459b-8e67-20bbee64aea4",
   "metadata": {},
   "outputs": [],
   "source": [
    "from sklearn.metrics import precision_score"
   ]
  },
  {
   "cell_type": "code",
   "execution_count": null,
   "id": "145254e5-bf38-4e4e-8585-7808f4050a3c",
   "metadata": {},
   "outputs": [],
   "source": [
    "precision = precision_score(y_test, y_pred, average=None)"
   ]
  },
  {
   "cell_type": "code",
   "execution_count": null,
   "id": "db0b98b2-43ec-4ccb-8291-eb2a7022d17f",
   "metadata": {},
   "outputs": [],
   "source": [
    "precision"
   ]
  },
  {
   "cell_type": "code",
   "execution_count": null,
   "id": "e6708b7b-235d-4b0b-902f-dc249b00fb51",
   "metadata": {},
   "outputs": [],
   "source": [
    "array([0.97897898, 0.99120493, 0.97393822, 0.97117296, 0.96649746,\n",
    "       0.9819209 , 0.99157895, 0.97428289, 0.96639511, 0.96233895])"
   ]
  },
  {
   "cell_type": "code",
   "execution_count": null,
   "id": "47a0bf12-4d4d-4299-93cc-baa7c21bfb87",
   "metadata": {},
   "outputs": [],
   "source": [
    "from sklearn.metrics import recall_score"
   ]
  },
  {
   "cell_type": "code",
   "execution_count": null,
   "id": "434eb63b-c46a-4a42-b8e3-b7e8052b8abc",
   "metadata": {},
   "outputs": [],
   "source": [
    "recall = recall_score(y_test, y_pred, average=None)"
   ]
  },
  {
   "cell_type": "code",
   "execution_count": null,
   "id": "9a05a618-534f-40d0-8fb0-893ebca75ba0",
   "metadata": {},
   "outputs": [],
   "source": [
    "recall"
   ]
  },
  {
   "cell_type": "code",
   "execution_count": null,
   "id": "d2b6464f-9422-47dd-a090-838bf56af03a",
   "metadata": {},
   "outputs": [],
   "source": [
    "array([0.99795918, 0.99295154, 0.97771318, 0.96732673, 0.9694501 ,\n",
    "       0.97421525, 0.98329854, 0.95817121, 0.97433265, 0.96233895])"
   ]
  },
  {
   "cell_type": "code",
   "execution_count": null,
   "id": "6420709f-99f9-47be-a558-bf9d4615927a",
   "metadata": {},
   "outputs": [],
   "source": [
    "from sklearn.metrics import accuracy_score"
   ]
  },
  {
   "cell_type": "code",
   "execution_count": null,
   "id": "2d625bde-8b02-4deb-8696-ab14d25276c3",
   "metadata": {},
   "outputs": [],
   "source": [
    "accuracy = accuracy_score(y_test, y_pred)"
   ]
  },
  {
   "cell_type": "code",
   "execution_count": null,
   "id": "d974bc68-e058-48a2-965f-3523e1ee2f67",
   "metadata": {},
   "outputs": [],
   "source": [
    "accuracy"
   ]
  },
  {
   "cell_type": "code",
   "execution_count": null,
   "id": "f44df1ac-eb76-4b12-b63a-4ec5c399e091",
   "metadata": {},
   "outputs": [],
   "source": [
    "0.9759"
   ]
  },
  {
   "cell_type": "code",
   "execution_count": null,
   "id": "ad49eb40-2672-498b-8734-6e667985b060",
   "metadata": {},
   "outputs": [],
   "source": [
    "from sklearn.metrics import f1_score"
   ]
  },
  {
   "cell_type": "code",
   "execution_count": null,
   "id": "e404ca75-c009-469a-9e38-11b02001e405",
   "metadata": {},
   "outputs": [],
   "source": [
    "f1 = f1_score(y_test, y_pred, average='macro')"
   ]
  },
  {
   "cell_type": "code",
   "execution_count": null,
   "id": "dec6b6cc-4d4d-4330-a40b-bd85c5c40e7b",
   "metadata": {},
   "outputs": [],
   "source": [
    "f1"
   ]
  },
  {
   "cell_type": "code",
   "execution_count": null,
   "id": "da0a3e72-28e2-4487-a2fe-3c4a1a2f2ea4",
   "metadata": {},
   "outputs": [],
   "source": [
    "0.9757815807547701"
   ]
  }
 ],
 "metadata": {
  "kernelspec": {
   "display_name": "Python 3 (ipykernel)",
   "language": "python",
   "name": "python3"
  },
  "language_info": {
   "codemirror_mode": {
    "name": "ipython",
    "version": 3
   },
   "file_extension": ".py",
   "mimetype": "text/x-python",
   "name": "python",
   "nbconvert_exporter": "python",
   "pygments_lexer": "ipython3",
   "version": "3.12.1"
  }
 },
 "nbformat": 4,
 "nbformat_minor": 5
}
